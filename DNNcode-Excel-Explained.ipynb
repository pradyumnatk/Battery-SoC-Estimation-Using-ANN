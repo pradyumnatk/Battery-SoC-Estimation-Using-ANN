{
 "cells": [
  {
   "cell_type": "code",
   "execution_count": null,
   "metadata": {},
   "outputs": [],
   "source": [
    "# Training Data - Training_Data_set_cell1(contains cell-1 data at all temperatures)-UDDS drivecycle\n",
    "# Test Data     - Cell2 UDDS cycle at temperature 25\n"
   ]
  },
  {
   "cell_type": "markdown",
   "metadata": {},
   "source": [
    "## Importing Functions From Libraries "
   ]
  },
  {
   "cell_type": "code",
   "execution_count": 4,
   "metadata": {},
   "outputs": [
    {
     "name": "stderr",
     "output_type": "stream",
     "text": [
      "C:\\Users\\RECL\\anaconda3\\lib\\site-packages\\tensorflow\\python\\framework\\dtypes.py:516: FutureWarning: Passing (type, 1) or '1type' as a synonym of type is deprecated; in a future version of numpy, it will be understood as (type, (1,)) / '(1,)type'.\n",
      "  _np_qint8 = np.dtype([(\"qint8\", np.int8, 1)])\n",
      "C:\\Users\\RECL\\anaconda3\\lib\\site-packages\\tensorflow\\python\\framework\\dtypes.py:517: FutureWarning: Passing (type, 1) or '1type' as a synonym of type is deprecated; in a future version of numpy, it will be understood as (type, (1,)) / '(1,)type'.\n",
      "  _np_quint8 = np.dtype([(\"quint8\", np.uint8, 1)])\n",
      "C:\\Users\\RECL\\anaconda3\\lib\\site-packages\\tensorflow\\python\\framework\\dtypes.py:518: FutureWarning: Passing (type, 1) or '1type' as a synonym of type is deprecated; in a future version of numpy, it will be understood as (type, (1,)) / '(1,)type'.\n",
      "  _np_qint16 = np.dtype([(\"qint16\", np.int16, 1)])\n",
      "C:\\Users\\RECL\\anaconda3\\lib\\site-packages\\tensorflow\\python\\framework\\dtypes.py:519: FutureWarning: Passing (type, 1) or '1type' as a synonym of type is deprecated; in a future version of numpy, it will be understood as (type, (1,)) / '(1,)type'.\n",
      "  _np_quint16 = np.dtype([(\"quint16\", np.uint16, 1)])\n",
      "C:\\Users\\RECL\\anaconda3\\lib\\site-packages\\tensorflow\\python\\framework\\dtypes.py:520: FutureWarning: Passing (type, 1) or '1type' as a synonym of type is deprecated; in a future version of numpy, it will be understood as (type, (1,)) / '(1,)type'.\n",
      "  _np_qint32 = np.dtype([(\"qint32\", np.int32, 1)])\n",
      "C:\\Users\\RECL\\anaconda3\\lib\\site-packages\\tensorflow\\python\\framework\\dtypes.py:525: FutureWarning: Passing (type, 1) or '1type' as a synonym of type is deprecated; in a future version of numpy, it will be understood as (type, (1,)) / '(1,)type'.\n",
      "  np_resource = np.dtype([(\"resource\", np.ubyte, 1)])\n",
      "C:\\Users\\RECL\\anaconda3\\lib\\site-packages\\tensorboard\\compat\\tensorflow_stub\\dtypes.py:541: FutureWarning: Passing (type, 1) or '1type' as a synonym of type is deprecated; in a future version of numpy, it will be understood as (type, (1,)) / '(1,)type'.\n",
      "  _np_qint8 = np.dtype([(\"qint8\", np.int8, 1)])\n",
      "C:\\Users\\RECL\\anaconda3\\lib\\site-packages\\tensorboard\\compat\\tensorflow_stub\\dtypes.py:542: FutureWarning: Passing (type, 1) or '1type' as a synonym of type is deprecated; in a future version of numpy, it will be understood as (type, (1,)) / '(1,)type'.\n",
      "  _np_quint8 = np.dtype([(\"quint8\", np.uint8, 1)])\n",
      "C:\\Users\\RECL\\anaconda3\\lib\\site-packages\\tensorboard\\compat\\tensorflow_stub\\dtypes.py:543: FutureWarning: Passing (type, 1) or '1type' as a synonym of type is deprecated; in a future version of numpy, it will be understood as (type, (1,)) / '(1,)type'.\n",
      "  _np_qint16 = np.dtype([(\"qint16\", np.int16, 1)])\n",
      "C:\\Users\\RECL\\anaconda3\\lib\\site-packages\\tensorboard\\compat\\tensorflow_stub\\dtypes.py:544: FutureWarning: Passing (type, 1) or '1type' as a synonym of type is deprecated; in a future version of numpy, it will be understood as (type, (1,)) / '(1,)type'.\n",
      "  _np_quint16 = np.dtype([(\"quint16\", np.uint16, 1)])\n",
      "C:\\Users\\RECL\\anaconda3\\lib\\site-packages\\tensorboard\\compat\\tensorflow_stub\\dtypes.py:545: FutureWarning: Passing (type, 1) or '1type' as a synonym of type is deprecated; in a future version of numpy, it will be understood as (type, (1,)) / '(1,)type'.\n",
      "  _np_qint32 = np.dtype([(\"qint32\", np.int32, 1)])\n",
      "C:\\Users\\RECL\\anaconda3\\lib\\site-packages\\tensorboard\\compat\\tensorflow_stub\\dtypes.py:550: FutureWarning: Passing (type, 1) or '1type' as a synonym of type is deprecated; in a future version of numpy, it will be understood as (type, (1,)) / '(1,)type'.\n",
      "  np_resource = np.dtype([(\"resource\", np.ubyte, 1)])\n"
     ]
    },
    {
     "name": "stdout",
     "output_type": "stream",
     "text": [
      "1.14.0\n"
     ]
    }
   ],
   "source": [
    "from __future__ import absolute_import, division, print_function, unicode_literals\n",
    "\n",
    "                  #handling data\n",
    "import pathlib\n",
    "import matplotlib.pyplot as plt\n",
    "import numpy as np\n",
    "import pandas as pd\n",
    "import seaborn as sns\n",
    "                 #scaling and splitting data\n",
    "import tensorflow as tf\n",
    "from sklearn.preprocessing import MinMaxScaler\n",
    "from sklearn.model_selection import train_test_split\n",
    "from tensorflow.keras.optimizers import Adam\n",
    "                #build and train model\n",
    "from tensorflow.keras.models import Sequential\n",
    "from tensorflow.keras.layers import Dense,Dropout\n",
    "from tensorflow.keras.callbacks import EarlyStopping\n",
    "                #save and load the model\n",
    "from tensorflow.keras.models import load_model\n",
    "                #evaluate model\n",
    "from sklearn.metrics import mean_squared_error,mean_absolute_error,explained_variance_score \n",
    "\n",
    "\n",
    "\n",
    "print(tf.__version__)"
   ]
  },
  {
   "cell_type": "markdown",
   "metadata": {},
   "source": [
    "***Open training and testing files.\n",
    "If the files are in the same folder where we are writing the code file, we can just mention file name. Else we need to mention full path with \\\\(double back slashes)"
   ]
  },
  {
   "cell_type": "markdown",
   "metadata": {},
   "source": [
    "## Loading the data from location in the PC"
   ]
  },
  {
   "cell_type": "code",
   "execution_count": 6,
   "metadata": {},
   "outputs": [],
   "source": [
    "traindata = pd.read_excel(\"File Name or File Path\")\n",
    "preddata = pd.read_excel(\"File Name or File Path\")"
   ]
  },
  {
   "cell_type": "code",
   "execution_count": 7,
   "metadata": {},
   "outputs": [
    {
     "data": {
      "text/html": [
       "<div>\n",
       "<style scoped>\n",
       "    .dataframe tbody tr th:only-of-type {\n",
       "        vertical-align: middle;\n",
       "    }\n",
       "\n",
       "    .dataframe tbody tr th {\n",
       "        vertical-align: top;\n",
       "    }\n",
       "\n",
       "    .dataframe thead th {\n",
       "        text-align: right;\n",
       "    }\n",
       "</style>\n",
       "<table border=\"1\" class=\"dataframe\">\n",
       "  <thead>\n",
       "    <tr style=\"text-align: right;\">\n",
       "      <th></th>\n",
       "      <th>SoC</th>\n",
       "      <th>Current</th>\n",
       "      <th>Voltage</th>\n",
       "      <th>Temperature</th>\n",
       "    </tr>\n",
       "  </thead>\n",
       "  <tbody>\n",
       "    <tr>\n",
       "      <th>0</th>\n",
       "      <td>0.000055</td>\n",
       "      <td>0.476074</td>\n",
       "      <td>3.454285</td>\n",
       "      <td>-10</td>\n",
       "    </tr>\n",
       "    <tr>\n",
       "      <th>1</th>\n",
       "      <td>0.000110</td>\n",
       "      <td>0.476074</td>\n",
       "      <td>3.456116</td>\n",
       "      <td>-10</td>\n",
       "    </tr>\n",
       "    <tr>\n",
       "      <th>2</th>\n",
       "      <td>0.000166</td>\n",
       "      <td>0.476074</td>\n",
       "      <td>3.457642</td>\n",
       "      <td>-10</td>\n",
       "    </tr>\n",
       "    <tr>\n",
       "      <th>3</th>\n",
       "      <td>0.000221</td>\n",
       "      <td>0.476074</td>\n",
       "      <td>3.458557</td>\n",
       "      <td>-10</td>\n",
       "    </tr>\n",
       "    <tr>\n",
       "      <th>4</th>\n",
       "      <td>0.000276</td>\n",
       "      <td>0.476074</td>\n",
       "      <td>3.459778</td>\n",
       "      <td>-10</td>\n",
       "    </tr>\n",
       "    <tr>\n",
       "      <th>...</th>\n",
       "      <td>...</td>\n",
       "      <td>...</td>\n",
       "      <td>...</td>\n",
       "      <td>...</td>\n",
       "    </tr>\n",
       "    <tr>\n",
       "      <th>124995</th>\n",
       "      <td>0.633843</td>\n",
       "      <td>0.001607</td>\n",
       "      <td>3.878180</td>\n",
       "      <td>25</td>\n",
       "    </tr>\n",
       "    <tr>\n",
       "      <th>124996</th>\n",
       "      <td>0.633841</td>\n",
       "      <td>0.001677</td>\n",
       "      <td>3.878179</td>\n",
       "      <td>25</td>\n",
       "    </tr>\n",
       "    <tr>\n",
       "      <th>124997</th>\n",
       "      <td>0.633834</td>\n",
       "      <td>0.001705</td>\n",
       "      <td>3.878169</td>\n",
       "      <td>25</td>\n",
       "    </tr>\n",
       "    <tr>\n",
       "      <th>124998</th>\n",
       "      <td>0.633830</td>\n",
       "      <td>0.001166</td>\n",
       "      <td>3.878165</td>\n",
       "      <td>25</td>\n",
       "    </tr>\n",
       "    <tr>\n",
       "      <th>124999</th>\n",
       "      <td>0.633833</td>\n",
       "      <td>0.001534</td>\n",
       "      <td>3.878169</td>\n",
       "      <td>25</td>\n",
       "    </tr>\n",
       "  </tbody>\n",
       "</table>\n",
       "<p>125000 rows × 4 columns</p>\n",
       "</div>"
      ],
      "text/plain": [
       "             SoC   Current   Voltage  Temperature\n",
       "0       0.000055  0.476074  3.454285          -10\n",
       "1       0.000110  0.476074  3.456116          -10\n",
       "2       0.000166  0.476074  3.457642          -10\n",
       "3       0.000221  0.476074  3.458557          -10\n",
       "4       0.000276  0.476074  3.459778          -10\n",
       "...          ...       ...       ...          ...\n",
       "124995  0.633843  0.001607  3.878180           25\n",
       "124996  0.633841  0.001677  3.878179           25\n",
       "124997  0.633834  0.001705  3.878169           25\n",
       "124998  0.633830  0.001166  3.878165           25\n",
       "124999  0.633833  0.001534  3.878169           25\n",
       "\n",
       "[125000 rows x 4 columns]"
      ]
     },
     "execution_count": 7,
     "metadata": {},
     "output_type": "execute_result"
    }
   ],
   "source": [
    "traindata"
   ]
  },
  {
   "cell_type": "markdown",
   "metadata": {},
   "source": [
    "## Checking for missing values"
   ]
  },
  {
   "cell_type": "code",
   "execution_count": 8,
   "metadata": {},
   "outputs": [],
   "source": [
    "traindata.isna().sum()  #checks if there are NA values in the file anywhere and give the total number of rows having NA values \n",
    "traindata = traindata.dropna() # deletes the rows containing NA values from the data file."
   ]
  },
  {
   "cell_type": "markdown",
   "metadata": {},
   "source": [
    "***Splitting the data into training and validation data\n",
    "\n",
    "In the total data, 25% of the data is seperated and used as validation data. \n"
   ]
  },
  {
   "cell_type": "markdown",
   "metadata": {},
   "source": [
    "traindata"
   ]
  },
  {
   "cell_type": "code",
   "execution_count": 9,
   "metadata": {},
   "outputs": [],
   "source": [
    "X = traindata.drop('SoC',axis=1).values #drops SoC column from training data\n",
    "y = traindata['SoC'].values #copies SoC column to the variable y.\n",
    "\n",
    "# .values  will convert the data into array format"
   ]
  },
  {
   "cell_type": "code",
   "execution_count": 10,
   "metadata": {
    "scrolled": true
   },
   "outputs": [
    {
     "data": {
      "text/plain": [
       "array([[ 4.760740e-01,  3.454285e+00, -1.000000e+01],\n",
       "       [ 4.760740e-01,  3.456116e+00, -1.000000e+01],\n",
       "       [ 4.760740e-01,  3.457642e+00, -1.000000e+01],\n",
       "       ...,\n",
       "       [ 1.705000e-03,  3.878169e+00,  2.500000e+01],\n",
       "       [ 1.166000e-03,  3.878165e+00,  2.500000e+01],\n",
       "       [ 1.534000e-03,  3.878169e+00,  2.500000e+01]])"
      ]
     },
     "execution_count": 10,
     "metadata": {},
     "output_type": "execute_result"
    }
   ],
   "source": [
    "X"
   ]
  },
  {
   "cell_type": "code",
   "execution_count": 11,
   "metadata": {},
   "outputs": [
    {
     "data": {
      "text/plain": [
       "array([5.50000e-05, 1.10000e-04, 1.66000e-04, ..., 6.33834e-01,\n",
       "       6.33830e-01, 6.33833e-01])"
      ]
     },
     "execution_count": 11,
     "metadata": {},
     "output_type": "execute_result"
    }
   ],
   "source": [
    "y"
   ]
  },
  {
   "cell_type": "code",
   "execution_count": 12,
   "metadata": {},
   "outputs": [
    {
     "data": {
      "text/plain": [
       "375000"
      ]
     },
     "execution_count": 12,
     "metadata": {},
     "output_type": "execute_result"
    }
   ],
   "source": [
    "X.size\n"
   ]
  },
  {
   "cell_type": "code",
   "execution_count": 13,
   "metadata": {},
   "outputs": [
    {
     "data": {
      "text/plain": [
       "125000"
      ]
     },
     "execution_count": 13,
     "metadata": {},
     "output_type": "execute_result"
    }
   ],
   "source": [
    "y.size"
   ]
  },
  {
   "cell_type": "code",
   "execution_count": 12,
   "metadata": {},
   "outputs": [
    {
     "data": {
      "text/plain": [
       "array([0.97344 , 0.213848, 0.623228, ..., 0.246185, 0.997698, 0.134019])"
      ]
     },
     "execution_count": 12,
     "metadata": {},
     "output_type": "execute_result"
    }
   ],
   "source": [
    "train_in, valid_in , train_out,valid_out = train_test_split(X,y,test_size=0.25,random_state=100)\n",
    "\n",
    "#Splits X into train_in & valid_in  and 'y' into train_out,valid_out\n",
    "\n",
    "train_out   "
   ]
  },
  {
   "cell_type": "code",
   "execution_count": 9,
   "metadata": {},
   "outputs": [],
   "source": [
    "scaler = MinMaxScaler() # builtin function used to normalize the data \n",
    "\n",
    "train_in = scaler.fit_transform(train_in) \n",
    "valid_in= scaler.transform(valid_in)\n",
    "\n",
    "\n",
    "pred_in = preddata.drop('SoC', axis=1).values #drops SoC column from prediction data and assigns to pred_in\n",
    "pred_in = scaler.transform(pred_in) # normalizes pred_in values\n",
    "pred_out = preddata['SoC'].values  # #copies SoC column to pred_out\n",
    "\n"
   ]
  },
  {
   "cell_type": "code",
   "execution_count": null,
   "metadata": {},
   "outputs": [],
   "source": [
    "model = Sequential() # function used to create multiple layers \n",
    "\n",
    "model.add(Dense(3,activation='relu')) # adds 3 neurons to the 1st layer with activation function=relu.\n",
    "                                      # 1st layer is always input layer \n",
    "\n",
    "model.add(Dense(10,activation='relu')) # hidden layer with 10 neurons\n",
    "model.add(Dense(10,activation='relu')) # hidden layer with 10 neurons\n",
    "model.add(Dense(10,activation='relu')) # hidden layer with 10 neurons\n",
    "\n",
    "model.add(Dense(1))                    # output layer with single neuron.\n",
    "\n",
    "model.compile(optimizer='adam',loss='mse') #function used to compile the model.Different optimizers can be used"
   ]
  },
  {
   "cell_type": "code",
   "execution_count": 11,
   "metadata": {},
   "outputs": [
    {
     "name": "stdout",
     "output_type": "stream",
     "text": [
      "Train on 93750 samples, validate on 31250 samples\n",
      "Epoch 1/100\n",
      "93750/93750 [==============================] - 1s 5us/sample - loss: 0.0839 - val_loss: 0.0091\n",
      "Epoch 2/100\n",
      "93750/93750 [==============================] - 0s 3us/sample - loss: 0.0058 - val_loss: 0.0028\n",
      "Epoch 3/100\n",
      "93750/93750 [==============================] - 0s 3us/sample - loss: 0.0017 - val_loss: 0.0012\n",
      "Epoch 4/100\n",
      "93750/93750 [==============================] - 0s 3us/sample - loss: 9.4046e-04 - val_loss: 8.0576e-04\n",
      "Epoch 5/100\n",
      "93750/93750 [==============================] - 0s 3us/sample - loss: 6.9850e-04 - val_loss: 6.3184e-04\n",
      "Epoch 6/100\n",
      "93750/93750 [==============================] - 0s 3us/sample - loss: 6.0722e-04 - val_loss: 6.3057e-04\n",
      "Epoch 7/100\n",
      "93750/93750 [==============================] - 0s 3us/sample - loss: 5.7527e-04 - val_loss: 6.1179e-04\n",
      "Epoch 8/100\n",
      "93750/93750 [==============================] - 0s 3us/sample - loss: 5.6346e-04 - val_loss: 5.9120e-04\n",
      "Epoch 9/100\n",
      "93750/93750 [==============================] - 0s 3us/sample - loss: 5.3191e-04 - val_loss: 5.1402e-04\n",
      "Epoch 10/100\n",
      "93750/93750 [==============================] - 0s 3us/sample - loss: 5.0892e-04 - val_loss: 4.9419e-04\n",
      "Epoch 11/100\n",
      "93750/93750 [==============================] - 0s 3us/sample - loss: 4.8428e-04 - val_loss: 4.8217e-04\n",
      "Epoch 12/100\n",
      "93750/93750 [==============================] - 0s 3us/sample - loss: 4.7523e-04 - val_loss: 4.7510e-04\n",
      "Epoch 13/100\n",
      "93750/93750 [==============================] - 0s 3us/sample - loss: 4.7605e-04 - val_loss: 4.7492e-04\n",
      "Epoch 14/100\n",
      "93750/93750 [==============================] - 0s 3us/sample - loss: 4.7150e-04 - val_loss: 4.6754e-04\n",
      "Epoch 15/100\n",
      "93750/93750 [==============================] - 0s 3us/sample - loss: 4.6969e-04 - val_loss: 4.5559e-04\n",
      "Epoch 16/100\n",
      "93750/93750 [==============================] - 0s 3us/sample - loss: 4.6566e-04 - val_loss: 4.7060e-04\n",
      "Epoch 17/100\n",
      "93750/93750 [==============================] - 0s 3us/sample - loss: 4.6423e-04 - val_loss: 4.7505e-04\n",
      "Epoch 18/100\n",
      "93750/93750 [==============================] - 0s 3us/sample - loss: 4.5987e-04 - val_loss: 4.5804e-04\n",
      "Epoch 19/100\n",
      "93750/93750 [==============================] - 0s 3us/sample - loss: 4.5636e-04 - val_loss: 4.7513e-04\n",
      "Epoch 20/100\n",
      "93750/93750 [==============================] - 0s 3us/sample - loss: 4.5737e-04 - val_loss: 4.4895e-04\n",
      "Epoch 21/100\n",
      "93750/93750 [==============================] - 0s 3us/sample - loss: 4.5352e-04 - val_loss: 4.3921e-04\n",
      "Epoch 22/100\n",
      "93750/93750 [==============================] - 0s 3us/sample - loss: 4.5274e-04 - val_loss: 4.4961e-04\n",
      "Epoch 23/100\n",
      "93750/93750 [==============================] - 0s 3us/sample - loss: 4.4677e-04 - val_loss: 4.4032e-04\n",
      "Epoch 24/100\n",
      "93750/93750 [==============================] - 0s 3us/sample - loss: 4.4326e-04 - val_loss: 4.4001e-04\n",
      "Epoch 25/100\n",
      "93750/93750 [==============================] - 0s 3us/sample - loss: 4.3983e-04 - val_loss: 4.7747e-04\n",
      "Epoch 26/100\n",
      "93750/93750 [==============================] - 0s 3us/sample - loss: 4.3256e-04 - val_loss: 4.2813e-04\n",
      "Epoch 27/100\n",
      "93750/93750 [==============================] - 0s 3us/sample - loss: 4.2929e-04 - val_loss: 4.1716e-04\n",
      "Epoch 28/100\n",
      "93750/93750 [==============================] - 0s 3us/sample - loss: 4.3278e-04 - val_loss: 4.5216e-04\n",
      "Epoch 29/100\n",
      "93750/93750 [==============================] - 0s 3us/sample - loss: 4.2134e-04 - val_loss: 4.0635e-04\n",
      "Epoch 30/100\n",
      "93750/93750 [==============================] - 0s 3us/sample - loss: 4.2005e-04 - val_loss: 4.2863e-04\n",
      "Epoch 31/100\n",
      "93750/93750 [==============================] - 0s 3us/sample - loss: 4.1144e-04 - val_loss: 4.0327e-04\n",
      "Epoch 32/100\n",
      "93750/93750 [==============================] - 0s 3us/sample - loss: 4.0516e-04 - val_loss: 4.0391e-04\n",
      "Epoch 33/100\n",
      "93750/93750 [==============================] - 0s 3us/sample - loss: 3.9966e-04 - val_loss: 3.8818e-04\n",
      "Epoch 34/100\n",
      "93750/93750 [==============================] - 0s 3us/sample - loss: 3.7975e-04 - val_loss: 3.7697e-04\n",
      "Epoch 35/100\n",
      "93750/93750 [==============================] - 0s 3us/sample - loss: 3.7073e-04 - val_loss: 3.5858e-04\n",
      "Epoch 36/100\n",
      "93750/93750 [==============================] - 0s 3us/sample - loss: 3.3720e-04 - val_loss: 3.4578e-04\n",
      "Epoch 37/100\n",
      "93750/93750 [==============================] - 0s 3us/sample - loss: 3.2266e-04 - val_loss: 3.5735e-04\n",
      "Epoch 38/100\n",
      "93750/93750 [==============================] - 0s 3us/sample - loss: 3.1326e-04 - val_loss: 4.3028e-04\n",
      "Epoch 39/100\n",
      "93750/93750 [==============================] - 0s 3us/sample - loss: 3.0545e-04 - val_loss: 3.5679e-04\n",
      "Epoch 40/100\n",
      "93750/93750 [==============================] - 0s 3us/sample - loss: 3.0381e-04 - val_loss: 3.1068e-04\n",
      "Epoch 41/100\n",
      "93750/93750 [==============================] - 0s 3us/sample - loss: 2.8662e-04 - val_loss: 3.2090e-04\n",
      "Epoch 42/100\n",
      "93750/93750 [==============================] - 0s 3us/sample - loss: 2.8338e-04 - val_loss: 2.7317e-04\n",
      "Epoch 43/100\n",
      "93750/93750 [==============================] - 0s 3us/sample - loss: 2.7238e-04 - val_loss: 2.7160e-04\n",
      "Epoch 44/100\n",
      "93750/93750 [==============================] - 0s 3us/sample - loss: 2.7072e-04 - val_loss: 2.5874e-04\n",
      "Epoch 45/100\n",
      "93750/93750 [==============================] - 0s 3us/sample - loss: 2.6447e-04 - val_loss: 2.8043e-04\n",
      "Epoch 46/100\n",
      "93750/93750 [==============================] - 0s 3us/sample - loss: 2.6068e-04 - val_loss: 2.5283e-04\n",
      "Epoch 47/100\n",
      "93750/93750 [==============================] - 0s 3us/sample - loss: 2.5826e-04 - val_loss: 2.5878e-04\n",
      "Epoch 48/100\n",
      "93750/93750 [==============================] - 0s 3us/sample - loss: 2.5335e-04 - val_loss: 2.4437e-04\n",
      "Epoch 49/100\n",
      "93750/93750 [==============================] - 0s 3us/sample - loss: 2.4717e-04 - val_loss: 2.3843e-04\n",
      "Epoch 50/100\n",
      "93750/93750 [==============================] - 0s 3us/sample - loss: 2.4280e-04 - val_loss: 2.4068e-04\n",
      "Epoch 51/100\n",
      "93750/93750 [==============================] - 0s 3us/sample - loss: 2.3324e-04 - val_loss: 2.2116e-04\n",
      "Epoch 52/100\n",
      "93750/93750 [==============================] - 0s 3us/sample - loss: 2.2312e-04 - val_loss: 2.3249e-04\n",
      "Epoch 53/100\n",
      "93750/93750 [==============================] - 0s 3us/sample - loss: 2.0454e-04 - val_loss: 1.9719e-04\n",
      "Epoch 54/100\n",
      "93750/93750 [==============================] - 0s 3us/sample - loss: 2.0316e-04 - val_loss: 2.5079e-04\n",
      "Epoch 55/100\n",
      "93750/93750 [==============================] - 0s 3us/sample - loss: 1.9764e-04 - val_loss: 1.9584e-04\n",
      "Epoch 56/100\n",
      "93750/93750 [==============================] - 0s 3us/sample - loss: 1.9757e-04 - val_loss: 1.9800e-04\n",
      "Epoch 57/100\n",
      "93750/93750 [==============================] - 0s 3us/sample - loss: 1.9677e-04 - val_loss: 2.1030e-04\n",
      "Epoch 58/100\n",
      "93750/93750 [==============================] - 0s 3us/sample - loss: 1.9517e-04 - val_loss: 2.0887e-04\n",
      "Epoch 59/100\n",
      "93750/93750 [==============================] - 0s 3us/sample - loss: 1.9403e-04 - val_loss: 1.8557e-04\n",
      "Epoch 60/100\n",
      "93750/93750 [==============================] - 0s 3us/sample - loss: 1.9208e-04 - val_loss: 1.8729e-04\n",
      "Epoch 61/100\n",
      "93750/93750 [==============================] - 0s 3us/sample - loss: 1.9083e-04 - val_loss: 2.1922e-04\n",
      "Epoch 62/100\n",
      "93750/93750 [==============================] - 0s 3us/sample - loss: 1.9179e-04 - val_loss: 1.9106e-04\n",
      "Epoch 63/100\n",
      "93750/93750 [==============================] - 0s 3us/sample - loss: 1.9039e-04 - val_loss: 2.0634e-04\n",
      "Epoch 64/100\n",
      "93750/93750 [==============================] - 0s 3us/sample - loss: 1.9066e-04 - val_loss: 2.2715e-04\n",
      "Epoch 65/100\n",
      "93750/93750 [==============================] - 0s 3us/sample - loss: 1.9111e-04 - val_loss: 1.8662e-04\n",
      "Epoch 66/100\n",
      "93750/93750 [==============================] - 0s 4us/sample - loss: 1.8845e-04 - val_loss: 1.8904e-04\n",
      "Epoch 67/100\n",
      "93750/93750 [==============================] - 0s 3us/sample - loss: 1.8954e-04 - val_loss: 1.8454e-04\n",
      "Epoch 68/100\n",
      "93750/93750 [==============================] - 0s 3us/sample - loss: 1.8915e-04 - val_loss: 2.0788e-04\n",
      "Epoch 69/100\n",
      "93750/93750 [==============================] - 0s 4us/sample - loss: 1.8957e-04 - val_loss: 2.0129e-04\n",
      "Epoch 70/100\n",
      "93750/93750 [==============================] - 0s 4us/sample - loss: 1.8450e-04 - val_loss: 1.8020e-04\n",
      "Epoch 71/100\n",
      "93750/93750 [==============================] - 0s 4us/sample - loss: 1.9207e-04 - val_loss: 2.0139e-04\n",
      "Epoch 72/100\n",
      "93750/93750 [==============================] - 0s 3us/sample - loss: 1.8709e-04 - val_loss: 2.2216e-04\n",
      "Epoch 73/100\n",
      "93750/93750 [==============================] - 0s 3us/sample - loss: 1.8516e-04 - val_loss: 1.9435e-04\n",
      "Epoch 74/100\n",
      "93750/93750 [==============================] - 0s 3us/sample - loss: 1.8645e-04 - val_loss: 2.0877e-04\n",
      "Epoch 75/100\n",
      "93750/93750 [==============================] - 0s 3us/sample - loss: 1.8606e-04 - val_loss: 1.9124e-04\n",
      "Epoch 76/100\n",
      "93750/93750 [==============================] - 0s 3us/sample - loss: 1.8429e-04 - val_loss: 1.7467e-04\n",
      "Epoch 77/100\n",
      "93750/93750 [==============================] - 0s 3us/sample - loss: 1.8430e-04 - val_loss: 1.9425e-04\n",
      "Epoch 78/100\n",
      "93750/93750 [==============================] - 0s 3us/sample - loss: 1.8166e-04 - val_loss: 1.8979e-04\n",
      "Epoch 79/100\n",
      "93750/93750 [==============================] - 0s 3us/sample - loss: 1.8220e-04 - val_loss: 1.8495e-04\n",
      "Epoch 80/100\n",
      "93750/93750 [==============================] - 0s 3us/sample - loss: 1.8236e-04 - val_loss: 1.8848e-04\n",
      "Epoch 81/100\n",
      "93750/93750 [==============================] - 0s 3us/sample - loss: 1.8236e-04 - val_loss: 1.7507e-04\n",
      "Epoch 82/100\n",
      "93750/93750 [==============================] - 0s 4us/sample - loss: 1.7974e-04 - val_loss: 1.7150e-04\n",
      "Epoch 83/100\n",
      "93750/93750 [==============================] - 0s 4us/sample - loss: 1.7917e-04 - val_loss: 1.7250e-04\n",
      "Epoch 84/100\n",
      "93750/93750 [==============================] - 0s 3us/sample - loss: 1.7715e-04 - val_loss: 1.7962e-04\n",
      "Epoch 85/100\n",
      "93750/93750 [==============================] - 0s 4us/sample - loss: 1.8080e-04 - val_loss: 1.8681e-04\n",
      "Epoch 86/100\n",
      "93750/93750 [==============================] - 0s 3us/sample - loss: 1.8197e-04 - val_loss: 2.1504e-04\n",
      "Epoch 87/100\n",
      "93750/93750 [==============================] - 0s 3us/sample - loss: 1.8207e-04 - val_loss: 1.7097e-04\n",
      "Epoch 88/100\n",
      "93750/93750 [==============================] - 0s 3us/sample - loss: 1.8025e-04 - val_loss: 1.7268e-04\n",
      "Epoch 89/100\n",
      "93750/93750 [==============================] - 0s 3us/sample - loss: 1.7786e-04 - val_loss: 1.9315e-04\n",
      "Epoch 90/100\n",
      "93750/93750 [==============================] - 0s 3us/sample - loss: 1.7863e-04 - val_loss: 2.2039e-04\n",
      "Epoch 91/100\n",
      "93750/93750 [==============================] - 0s 3us/sample - loss: 1.7689e-04 - val_loss: 1.7898e-04\n",
      "Epoch 92/100\n",
      "93750/93750 [==============================] - 0s 3us/sample - loss: 1.7834e-04 - val_loss: 1.7150e-04\n",
      "Epoch 93/100\n",
      "93750/93750 [==============================] - 0s 3us/sample - loss: 1.7866e-04 - val_loss: 1.9752e-04\n",
      "Epoch 94/100\n",
      "93750/93750 [==============================] - 0s 3us/sample - loss: 1.8257e-04 - val_loss: 1.8925e-04\n",
      "Epoch 95/100\n",
      "93750/93750 [==============================] - 0s 3us/sample - loss: 1.7765e-04 - val_loss: 1.6981e-04\n",
      "Epoch 96/100\n",
      "93750/93750 [==============================] - 0s 3us/sample - loss: 1.7792e-04 - val_loss: 1.7298e-04\n",
      "Epoch 97/100\n",
      "93750/93750 [==============================] - 0s 3us/sample - loss: 1.7921e-04 - val_loss: 1.7661e-04\n",
      "Epoch 98/100\n",
      "93750/93750 [==============================] - 0s 3us/sample - loss: 1.7788e-04 - val_loss: 2.1304e-04\n",
      "Epoch 99/100\n",
      "93750/93750 [==============================] - 0s 3us/sample - loss: 1.7531e-04 - val_loss: 1.9397e-04\n",
      "Epoch 100/100\n",
      "93750/93750 [==============================] - 0s 3us/sample - loss: 1.7873e-04 - val_loss: 1.7684e-04\n"
     ]
    },
    {
     "data": {
      "text/plain": [
       "<tensorflow.python.keras.callbacks.History at 0x19b380f2c88>"
      ]
     },
     "execution_count": 11,
     "metadata": {},
     "output_type": "execute_result"
    }
   ],
   "source": [
    "model.fit(x=train_in, y=train_out,validation_data=(valid_in,valid_out), batch_size=256,epochs=100)  \n",
    "\n",
    "#function used to train the model with specified batch size and epochs         "
   ]
  },
  {
   "cell_type": "code",
   "execution_count": 55,
   "metadata": {
    "scrolled": true
   },
   "outputs": [
    {
     "data": {
      "text/html": [
       "<div>\n",
       "<style scoped>\n",
       "    .dataframe tbody tr th:only-of-type {\n",
       "        vertical-align: middle;\n",
       "    }\n",
       "\n",
       "    .dataframe tbody tr th {\n",
       "        vertical-align: top;\n",
       "    }\n",
       "\n",
       "    .dataframe thead th {\n",
       "        text-align: right;\n",
       "    }\n",
       "</style>\n",
       "<table border=\"1\" class=\"dataframe\">\n",
       "  <thead>\n",
       "    <tr style=\"text-align: right;\">\n",
       "      <th></th>\n",
       "      <th>loss</th>\n",
       "      <th>val_loss</th>\n",
       "    </tr>\n",
       "  </thead>\n",
       "  <tbody>\n",
       "    <tr>\n",
       "      <th>0</th>\n",
       "      <td>0.122662</td>\n",
       "      <td>0.080465</td>\n",
       "    </tr>\n",
       "    <tr>\n",
       "      <th>1</th>\n",
       "      <td>0.072947</td>\n",
       "      <td>0.057614</td>\n",
       "    </tr>\n",
       "    <tr>\n",
       "      <th>2</th>\n",
       "      <td>0.022274</td>\n",
       "      <td>0.009520</td>\n",
       "    </tr>\n",
       "    <tr>\n",
       "      <th>3</th>\n",
       "      <td>0.009278</td>\n",
       "      <td>0.008903</td>\n",
       "    </tr>\n",
       "    <tr>\n",
       "      <th>4</th>\n",
       "      <td>0.008940</td>\n",
       "      <td>0.008712</td>\n",
       "    </tr>\n",
       "    <tr>\n",
       "      <th>...</th>\n",
       "      <td>...</td>\n",
       "      <td>...</td>\n",
       "    </tr>\n",
       "    <tr>\n",
       "      <th>95</th>\n",
       "      <td>0.008149</td>\n",
       "      <td>0.008040</td>\n",
       "    </tr>\n",
       "    <tr>\n",
       "      <th>96</th>\n",
       "      <td>0.008173</td>\n",
       "      <td>0.007988</td>\n",
       "    </tr>\n",
       "    <tr>\n",
       "      <th>97</th>\n",
       "      <td>0.008148</td>\n",
       "      <td>0.008004</td>\n",
       "    </tr>\n",
       "    <tr>\n",
       "      <th>98</th>\n",
       "      <td>0.008146</td>\n",
       "      <td>0.008003</td>\n",
       "    </tr>\n",
       "    <tr>\n",
       "      <th>99</th>\n",
       "      <td>0.008167</td>\n",
       "      <td>0.008017</td>\n",
       "    </tr>\n",
       "  </tbody>\n",
       "</table>\n",
       "<p>100 rows × 2 columns</p>\n",
       "</div>"
      ],
      "text/plain": [
       "        loss  val_loss\n",
       "0   0.122662  0.080465\n",
       "1   0.072947  0.057614\n",
       "2   0.022274  0.009520\n",
       "3   0.009278  0.008903\n",
       "4   0.008940  0.008712\n",
       "..       ...       ...\n",
       "95  0.008149  0.008040\n",
       "96  0.008173  0.007988\n",
       "97  0.008148  0.008004\n",
       "98  0.008146  0.008003\n",
       "99  0.008167  0.008017\n",
       "\n",
       "[100 rows x 2 columns]"
      ]
     },
     "execution_count": 55,
     "metadata": {},
     "output_type": "execute_result"
    }
   ],
   "source": [
    "loss = pd.DataFrame(model.history.history) #gives the values of training loss for each epoch.\n",
    "loss\n"
   ]
  },
  {
   "cell_type": "code",
   "execution_count": 56,
   "metadata": {},
   "outputs": [
    {
     "data": {
      "text/plain": [
       "Text(0, 0.5, 'Loss')"
      ]
     },
     "execution_count": 56,
     "metadata": {},
     "output_type": "execute_result"
    },
    {
     "data": {
      "image/png": "[encoded data removed]",
      "text/plain": [
       "<Figure size 432x288 with 1 Axes>"
      ]
     },
     "metadata": {
      "needs_background": "light"
     },
     "output_type": "display_data"
    }
   ],
   "source": [
    "loss.plot()           #to plot the loss values\n",
    "plt.xlabel('Epoch')\n",
    "plt.ylabel('Loss')"
   ]
  },
  {
   "cell_type": "code",
   "execution_count": 57,
   "metadata": {},
   "outputs": [],
   "source": [
    "predictions = model.predict(pred_in) #function used to predict the output of new data.\n"
   ]
  },
  {
   "cell_type": "code",
   "execution_count": 58,
   "metadata": {
    "scrolled": false
   },
   "outputs": [
    {
     "data": {
      "text/html": [
       "<div>\n",
       "<style scoped>\n",
       "    .dataframe tbody tr th:only-of-type {\n",
       "        vertical-align: middle;\n",
       "    }\n",
       "\n",
       "    .dataframe tbody tr th {\n",
       "        vertical-align: top;\n",
       "    }\n",
       "\n",
       "    .dataframe thead th {\n",
       "        text-align: right;\n",
       "    }\n",
       "</style>\n",
       "<table border=\"1\" class=\"dataframe\">\n",
       "  <thead>\n",
       "    <tr style=\"text-align: right;\">\n",
       "      <th></th>\n",
       "      <th>True_value</th>\n",
       "      <th>predected_value</th>\n",
       "      <th>Error</th>\n",
       "    </tr>\n",
       "  </thead>\n",
       "  <tbody>\n",
       "    <tr>\n",
       "      <th>0</th>\n",
       "      <td>0.761681</td>\n",
       "      <td>0.842441</td>\n",
       "      <td>0.080760</td>\n",
       "    </tr>\n",
       "    <tr>\n",
       "      <th>1</th>\n",
       "      <td>0.761756</td>\n",
       "      <td>0.842627</td>\n",
       "      <td>0.080871</td>\n",
       "    </tr>\n",
       "    <tr>\n",
       "      <th>2</th>\n",
       "      <td>0.761826</td>\n",
       "      <td>0.842586</td>\n",
       "      <td>0.080760</td>\n",
       "    </tr>\n",
       "    <tr>\n",
       "      <th>3</th>\n",
       "      <td>0.761891</td>\n",
       "      <td>0.842562</td>\n",
       "      <td>0.080671</td>\n",
       "    </tr>\n",
       "    <tr>\n",
       "      <th>4</th>\n",
       "      <td>0.761957</td>\n",
       "      <td>0.842553</td>\n",
       "      <td>0.080596</td>\n",
       "    </tr>\n",
       "    <tr>\n",
       "      <th>...</th>\n",
       "      <td>...</td>\n",
       "      <td>...</td>\n",
       "      <td>...</td>\n",
       "    </tr>\n",
       "    <tr>\n",
       "      <th>11371</th>\n",
       "      <td>0.622695</td>\n",
       "      <td>0.587844</td>\n",
       "      <td>0.034851</td>\n",
       "    </tr>\n",
       "    <tr>\n",
       "      <th>11372</th>\n",
       "      <td>0.622738</td>\n",
       "      <td>0.587924</td>\n",
       "      <td>0.034814</td>\n",
       "    </tr>\n",
       "    <tr>\n",
       "      <th>11373</th>\n",
       "      <td>0.622649</td>\n",
       "      <td>0.587754</td>\n",
       "      <td>0.034895</td>\n",
       "    </tr>\n",
       "    <tr>\n",
       "      <th>11374</th>\n",
       "      <td>0.622686</td>\n",
       "      <td>0.587837</td>\n",
       "      <td>0.034849</td>\n",
       "    </tr>\n",
       "    <tr>\n",
       "      <th>11375</th>\n",
       "      <td>0.622583</td>\n",
       "      <td>0.587657</td>\n",
       "      <td>0.034926</td>\n",
       "    </tr>\n",
       "  </tbody>\n",
       "</table>\n",
       "<p>11376 rows × 3 columns</p>\n",
       "</div>"
      ],
      "text/plain": [
       "       True_value  predected_value     Error\n",
       "0        0.761681         0.842441  0.080760\n",
       "1        0.761756         0.842627  0.080871\n",
       "2        0.761826         0.842586  0.080760\n",
       "3        0.761891         0.842562  0.080671\n",
       "4        0.761957         0.842553  0.080596\n",
       "...           ...              ...       ...\n",
       "11371    0.622695         0.587844  0.034851\n",
       "11372    0.622738         0.587924  0.034814\n",
       "11373    0.622649         0.587754  0.034895\n",
       "11374    0.622686         0.587837  0.034849\n",
       "11375    0.622583         0.587657  0.034926\n",
       "\n",
       "[11376 rows x 3 columns]"
      ]
     },
     "execution_count": 58,
     "metadata": {},
     "output_type": "execute_result"
    }
   ],
   "source": [
    "#creating a table to easily compare true,predicted and error values\n",
    "\n",
    "True_value = pd.DataFrame(pred_out)\n",
    "predected_value = pd.DataFrame(predictions)\n",
    "Error = predected_value - True_value\n",
    "Error = Error.abs()  # converts -ve numbers into +ve\n",
    "\n",
    "compare = pd.concat([True_value,predected_value,Error],axis=1)\n",
    "compare.columns = ['True_value','predected_value','Error']\n",
    "Error.columns=['Error']\n",
    "\n",
    "\n",
    "compare     \n",
    "\n"
   ]
  },
  {
   "cell_type": "code",
   "execution_count": 59,
   "metadata": {},
   "outputs": [
    {
     "data": {
      "text/plain": [
       "Error    0.252947\n",
       "dtype: float64"
      ]
     },
     "execution_count": 59,
     "metadata": {},
     "output_type": "execute_result"
    }
   ],
   "source": [
    "Error.max()\n",
    "# gives maximum error value  "
   ]
  },
  {
   "cell_type": "code",
   "execution_count": 60,
   "metadata": {},
   "outputs": [
    {
     "data": {
      "text/plain": [
       "0.052479724157942706"
      ]
     },
     "execution_count": 60,
     "metadata": {},
     "output_type": "execute_result"
    }
   ],
   "source": [
    "np.sqrt(mean_squared_error(pred_out,predictions)) #RMS error"
   ]
  },
  {
   "cell_type": "code",
   "execution_count": 61,
   "metadata": {
    "scrolled": true
   },
   "outputs": [
    {
     "data": {
      "text/plain": [
       "0.04013360012344569"
      ]
     },
     "execution_count": 61,
     "metadata": {},
     "output_type": "execute_result"
    }
   ],
   "source": [
    "mean_absolute_error(pred_out,predictions)"
   ]
  },
  {
   "cell_type": "code",
   "execution_count": 64,
   "metadata": {},
   "outputs": [],
   "source": [
    "# model.save('explain.h5')   #saves the mofel to \"explain\" in .h5 format"
   ]
  },
  {
   "cell_type": "code",
   "execution_count": null,
   "metadata": {},
   "outputs": [],
   "source": [
    "# model = load_model('explain.h5')  # Loads the trained model along with the weights "
   ]
  }
 ],
 "metadata": {
  "kernelspec": {
   "display_name": "Python 3 (ipykernel)",
   "language": "python",
   "name": "python3"
  },
  "language_info": {
   "codemirror_mode": {
    "name": "ipython",
    "version": 3
   },
   "file_extension": ".py",
   "mimetype": "text/x-python",
   "name": "python",
   "nbconvert_exporter": "python",
   "pygments_lexer": "ipython3",
   "version": "3.7.11"
  }
 },
 "nbformat": 4,
 "nbformat_minor": 4
}
